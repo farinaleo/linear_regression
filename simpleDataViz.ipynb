{
 "cells": [
  {
   "cell_type": "code",
   "execution_count": 12,
   "id": "initial_id",
   "metadata": {
    "ExecuteTime": {
     "end_time": "2024-05-23T07:40:00.965205Z",
     "start_time": "2024-05-23T07:40:00.962036Z"
    }
   },
   "outputs": [],
   "source": [
    "%matplotlib notebook\n",
    "\n",
    "from ipywidgets import *\n",
    "from srcs.extractData import extractData\n",
    "from srcs.normalise import normaliseDf\n",
    "from srcs.estimatedPrice import estimatedPrice\n",
    "from srcs.trainModel import trainModel\n"
   ]
  },
  {
   "cell_type": "markdown",
   "source": [],
   "metadata": {
    "collapsed": false
   },
   "id": "2d6cf4425e3d15b9"
  },
  {
   "cell_type": "code",
   "execution_count": 13,
   "id": "edabde163e6f5708",
   "metadata": {
    "collapsed": false,
    "ExecuteTime": {
     "end_time": "2024-05-23T07:40:00.977440Z",
     "start_time": "2024-05-23T07:40:00.966423Z"
    }
   },
   "outputs": [
    {
     "data": {
      "text/plain": "          km   price\n0   240000.0  3650.0\n1   139800.0  3800.0\n2   150500.0  4400.0\n3   185530.0  4450.0\n4   176000.0  5250.0\n5   114800.0  5350.0\n6   166800.0  5800.0\n7    89000.0  5990.0\n8   144500.0  5999.0\n9    84000.0  6200.0\n10   82029.0  6390.0\n11   63060.0  6390.0\n12   74000.0  6600.0\n13   97500.0  6800.0\n14   67000.0  6800.0\n15   76025.0  6900.0\n16   48235.0  6900.0\n17   93000.0  6990.0\n18   60949.0  7490.0\n19   65674.0  7555.0\n20   54000.0  7990.0\n21   68500.0  7990.0\n22   22899.0  7990.0\n23   61789.0  8290.0",
      "text/html": "<div>\n<style scoped>\n    .dataframe tbody tr th:only-of-type {\n        vertical-align: middle;\n    }\n\n    .dataframe tbody tr th {\n        vertical-align: top;\n    }\n\n    .dataframe thead th {\n        text-align: right;\n    }\n</style>\n<table border=\"1\" class=\"dataframe\">\n  <thead>\n    <tr style=\"text-align: right;\">\n      <th></th>\n      <th>km</th>\n      <th>price</th>\n    </tr>\n  </thead>\n  <tbody>\n    <tr>\n      <th>0</th>\n      <td>240000.0</td>\n      <td>3650.0</td>\n    </tr>\n    <tr>\n      <th>1</th>\n      <td>139800.0</td>\n      <td>3800.0</td>\n    </tr>\n    <tr>\n      <th>2</th>\n      <td>150500.0</td>\n      <td>4400.0</td>\n    </tr>\n    <tr>\n      <th>3</th>\n      <td>185530.0</td>\n      <td>4450.0</td>\n    </tr>\n    <tr>\n      <th>4</th>\n      <td>176000.0</td>\n      <td>5250.0</td>\n    </tr>\n    <tr>\n      <th>5</th>\n      <td>114800.0</td>\n      <td>5350.0</td>\n    </tr>\n    <tr>\n      <th>6</th>\n      <td>166800.0</td>\n      <td>5800.0</td>\n    </tr>\n    <tr>\n      <th>7</th>\n      <td>89000.0</td>\n      <td>5990.0</td>\n    </tr>\n    <tr>\n      <th>8</th>\n      <td>144500.0</td>\n      <td>5999.0</td>\n    </tr>\n    <tr>\n      <th>9</th>\n      <td>84000.0</td>\n      <td>6200.0</td>\n    </tr>\n    <tr>\n      <th>10</th>\n      <td>82029.0</td>\n      <td>6390.0</td>\n    </tr>\n    <tr>\n      <th>11</th>\n      <td>63060.0</td>\n      <td>6390.0</td>\n    </tr>\n    <tr>\n      <th>12</th>\n      <td>74000.0</td>\n      <td>6600.0</td>\n    </tr>\n    <tr>\n      <th>13</th>\n      <td>97500.0</td>\n      <td>6800.0</td>\n    </tr>\n    <tr>\n      <th>14</th>\n      <td>67000.0</td>\n      <td>6800.0</td>\n    </tr>\n    <tr>\n      <th>15</th>\n      <td>76025.0</td>\n      <td>6900.0</td>\n    </tr>\n    <tr>\n      <th>16</th>\n      <td>48235.0</td>\n      <td>6900.0</td>\n    </tr>\n    <tr>\n      <th>17</th>\n      <td>93000.0</td>\n      <td>6990.0</td>\n    </tr>\n    <tr>\n      <th>18</th>\n      <td>60949.0</td>\n      <td>7490.0</td>\n    </tr>\n    <tr>\n      <th>19</th>\n      <td>65674.0</td>\n      <td>7555.0</td>\n    </tr>\n    <tr>\n      <th>20</th>\n      <td>54000.0</td>\n      <td>7990.0</td>\n    </tr>\n    <tr>\n      <th>21</th>\n      <td>68500.0</td>\n      <td>7990.0</td>\n    </tr>\n    <tr>\n      <th>22</th>\n      <td>22899.0</td>\n      <td>7990.0</td>\n    </tr>\n    <tr>\n      <th>23</th>\n      <td>61789.0</td>\n      <td>8290.0</td>\n    </tr>\n  </tbody>\n</table>\n</div>"
     },
     "execution_count": 13,
     "metadata": {},
     "output_type": "execute_result"
    }
   ],
   "source": [
    "df = extractData('data/data.csv')\n",
    "df"
   ]
  },
  {
   "cell_type": "code",
   "execution_count": 14,
   "id": "691fc70c35fe3a05",
   "metadata": {
    "collapsed": false,
    "ExecuteTime": {
     "end_time": "2024-05-23T07:40:00.987520Z",
     "start_time": "2024-05-23T07:40:00.978220Z"
    }
   },
   "outputs": [
    {
     "data": {
      "text/plain": "          km     price\n0   2.637603 -2.032224\n1   0.735345 -1.918558\n2   0.938480 -1.463894\n3   1.603511 -1.426005\n4   1.422588 -0.819785\n5   0.260730 -0.744008\n6   1.247930 -0.403010\n7  -0.229073 -0.259033\n8   0.824573 -0.252213\n9  -0.323996 -0.099900\n10 -0.361415  0.044077\n11 -0.721534  0.044077\n12 -0.513842  0.203210\n13 -0.067704  0.354765\n14 -0.646734  0.354765\n15 -0.475398  0.430542\n16 -1.002981  0.430542\n17 -0.153135  0.498742\n18 -0.761610  0.877629\n19 -0.671908  0.926884\n20 -0.893534  1.256516\n21 -0.618258  1.256516\n22 -1.483975  1.256516\n23 -0.745663  1.483848",
      "text/html": "<div>\n<style scoped>\n    .dataframe tbody tr th:only-of-type {\n        vertical-align: middle;\n    }\n\n    .dataframe tbody tr th {\n        vertical-align: top;\n    }\n\n    .dataframe thead th {\n        text-align: right;\n    }\n</style>\n<table border=\"1\" class=\"dataframe\">\n  <thead>\n    <tr style=\"text-align: right;\">\n      <th></th>\n      <th>km</th>\n      <th>price</th>\n    </tr>\n  </thead>\n  <tbody>\n    <tr>\n      <th>0</th>\n      <td>2.637603</td>\n      <td>-2.032224</td>\n    </tr>\n    <tr>\n      <th>1</th>\n      <td>0.735345</td>\n      <td>-1.918558</td>\n    </tr>\n    <tr>\n      <th>2</th>\n      <td>0.938480</td>\n      <td>-1.463894</td>\n    </tr>\n    <tr>\n      <th>3</th>\n      <td>1.603511</td>\n      <td>-1.426005</td>\n    </tr>\n    <tr>\n      <th>4</th>\n      <td>1.422588</td>\n      <td>-0.819785</td>\n    </tr>\n    <tr>\n      <th>5</th>\n      <td>0.260730</td>\n      <td>-0.744008</td>\n    </tr>\n    <tr>\n      <th>6</th>\n      <td>1.247930</td>\n      <td>-0.403010</td>\n    </tr>\n    <tr>\n      <th>7</th>\n      <td>-0.229073</td>\n      <td>-0.259033</td>\n    </tr>\n    <tr>\n      <th>8</th>\n      <td>0.824573</td>\n      <td>-0.252213</td>\n    </tr>\n    <tr>\n      <th>9</th>\n      <td>-0.323996</td>\n      <td>-0.099900</td>\n    </tr>\n    <tr>\n      <th>10</th>\n      <td>-0.361415</td>\n      <td>0.044077</td>\n    </tr>\n    <tr>\n      <th>11</th>\n      <td>-0.721534</td>\n      <td>0.044077</td>\n    </tr>\n    <tr>\n      <th>12</th>\n      <td>-0.513842</td>\n      <td>0.203210</td>\n    </tr>\n    <tr>\n      <th>13</th>\n      <td>-0.067704</td>\n      <td>0.354765</td>\n    </tr>\n    <tr>\n      <th>14</th>\n      <td>-0.646734</td>\n      <td>0.354765</td>\n    </tr>\n    <tr>\n      <th>15</th>\n      <td>-0.475398</td>\n      <td>0.430542</td>\n    </tr>\n    <tr>\n      <th>16</th>\n      <td>-1.002981</td>\n      <td>0.430542</td>\n    </tr>\n    <tr>\n      <th>17</th>\n      <td>-0.153135</td>\n      <td>0.498742</td>\n    </tr>\n    <tr>\n      <th>18</th>\n      <td>-0.761610</td>\n      <td>0.877629</td>\n    </tr>\n    <tr>\n      <th>19</th>\n      <td>-0.671908</td>\n      <td>0.926884</td>\n    </tr>\n    <tr>\n      <th>20</th>\n      <td>-0.893534</td>\n      <td>1.256516</td>\n    </tr>\n    <tr>\n      <th>21</th>\n      <td>-0.618258</td>\n      <td>1.256516</td>\n    </tr>\n    <tr>\n      <th>22</th>\n      <td>-1.483975</td>\n      <td>1.256516</td>\n    </tr>\n    <tr>\n      <th>23</th>\n      <td>-0.745663</td>\n      <td>1.483848</td>\n    </tr>\n  </tbody>\n</table>\n</div>"
     },
     "execution_count": 14,
     "metadata": {},
     "output_type": "execute_result"
    }
   ],
   "source": [
    "normedDf = normaliseDf(df)\n",
    "normedDf"
   ]
  },
  {
   "cell_type": "code",
   "execution_count": 15,
   "id": "e3487f88ef95bff5",
   "metadata": {
    "collapsed": false,
    "ExecuteTime": {
     "end_time": "2024-05-23T07:40:00.994698Z",
     "start_time": "2024-05-23T07:40:00.988625Z"
    }
   },
   "outputs": [
    {
     "name": "stdout",
     "output_type": "stream",
     "text": [
      "3\n"
     ]
    }
   ],
   "source": [
    "print(estimatedPrice(1, thetas=(1, 2)))"
   ]
  },
  {
   "cell_type": "code",
   "execution_count": 27,
   "id": "1dd3a18fd318b0ba",
   "metadata": {
    "collapsed": false,
    "ExecuteTime": {
     "end_time": "2024-05-23T08:06:57.198546Z",
     "start_time": "2024-05-23T08:06:55.570271Z"
    }
   },
   "outputs": [
    {
     "name": "stdout",
     "output_type": "stream",
     "text": [
      "[1.892005071132038e-16, -0.8561394207905018]\n"
     ]
    }
   ],
   "source": [
    "thetas = trainModel(normedDf, plot=False, learningRate=0.1, epoch=1000)\n",
    "print(thetas)"
   ]
  },
  {
   "cell_type": "code",
   "outputs": [
    {
     "data": {
      "text/plain": "          km     price      ax+b\n0   2.637603 -2.032224 -2.258156\n1   0.735345 -1.918558 -0.629558\n2   0.938480 -1.463894 -0.803470\n3   1.603511 -1.426005 -1.372829\n4   1.422588 -0.819785 -1.217934\n5   0.260730 -0.744008 -0.223221\n6   1.247930 -0.403010 -1.068402\n7  -0.229073 -0.259033  0.196118\n8   0.824573 -0.252213 -0.705949\n9  -0.323996 -0.099900  0.277386\n10 -0.361415  0.044077  0.309421\n11 -0.721534  0.044077  0.617734\n12 -0.513842  0.203210  0.439921\n13 -0.067704  0.354765  0.057964\n14 -0.646734  0.354765  0.553695\n15 -0.475398  0.430542  0.407007\n16 -1.002981  0.430542  0.858691\n17 -0.153135  0.498742  0.131105\n18 -0.761610  0.877629  0.652045\n19 -0.671908  0.926884  0.575247\n20 -0.893534  1.256516  0.764990\n21 -0.618258  1.256516  0.529315\n22 -1.483975  1.256516  1.270489\n23 -0.745663  1.483848  0.638392",
      "text/html": "<div>\n<style scoped>\n    .dataframe tbody tr th:only-of-type {\n        vertical-align: middle;\n    }\n\n    .dataframe tbody tr th {\n        vertical-align: top;\n    }\n\n    .dataframe thead th {\n        text-align: right;\n    }\n</style>\n<table border=\"1\" class=\"dataframe\">\n  <thead>\n    <tr style=\"text-align: right;\">\n      <th></th>\n      <th>km</th>\n      <th>price</th>\n      <th>ax+b</th>\n    </tr>\n  </thead>\n  <tbody>\n    <tr>\n      <th>0</th>\n      <td>2.637603</td>\n      <td>-2.032224</td>\n      <td>-2.258156</td>\n    </tr>\n    <tr>\n      <th>1</th>\n      <td>0.735345</td>\n      <td>-1.918558</td>\n      <td>-0.629558</td>\n    </tr>\n    <tr>\n      <th>2</th>\n      <td>0.938480</td>\n      <td>-1.463894</td>\n      <td>-0.803470</td>\n    </tr>\n    <tr>\n      <th>3</th>\n      <td>1.603511</td>\n      <td>-1.426005</td>\n      <td>-1.372829</td>\n    </tr>\n    <tr>\n      <th>4</th>\n      <td>1.422588</td>\n      <td>-0.819785</td>\n      <td>-1.217934</td>\n    </tr>\n    <tr>\n      <th>5</th>\n      <td>0.260730</td>\n      <td>-0.744008</td>\n      <td>-0.223221</td>\n    </tr>\n    <tr>\n      <th>6</th>\n      <td>1.247930</td>\n      <td>-0.403010</td>\n      <td>-1.068402</td>\n    </tr>\n    <tr>\n      <th>7</th>\n      <td>-0.229073</td>\n      <td>-0.259033</td>\n      <td>0.196118</td>\n    </tr>\n    <tr>\n      <th>8</th>\n      <td>0.824573</td>\n      <td>-0.252213</td>\n      <td>-0.705949</td>\n    </tr>\n    <tr>\n      <th>9</th>\n      <td>-0.323996</td>\n      <td>-0.099900</td>\n      <td>0.277386</td>\n    </tr>\n    <tr>\n      <th>10</th>\n      <td>-0.361415</td>\n      <td>0.044077</td>\n      <td>0.309421</td>\n    </tr>\n    <tr>\n      <th>11</th>\n      <td>-0.721534</td>\n      <td>0.044077</td>\n      <td>0.617734</td>\n    </tr>\n    <tr>\n      <th>12</th>\n      <td>-0.513842</td>\n      <td>0.203210</td>\n      <td>0.439921</td>\n    </tr>\n    <tr>\n      <th>13</th>\n      <td>-0.067704</td>\n      <td>0.354765</td>\n      <td>0.057964</td>\n    </tr>\n    <tr>\n      <th>14</th>\n      <td>-0.646734</td>\n      <td>0.354765</td>\n      <td>0.553695</td>\n    </tr>\n    <tr>\n      <th>15</th>\n      <td>-0.475398</td>\n      <td>0.430542</td>\n      <td>0.407007</td>\n    </tr>\n    <tr>\n      <th>16</th>\n      <td>-1.002981</td>\n      <td>0.430542</td>\n      <td>0.858691</td>\n    </tr>\n    <tr>\n      <th>17</th>\n      <td>-0.153135</td>\n      <td>0.498742</td>\n      <td>0.131105</td>\n    </tr>\n    <tr>\n      <th>18</th>\n      <td>-0.761610</td>\n      <td>0.877629</td>\n      <td>0.652045</td>\n    </tr>\n    <tr>\n      <th>19</th>\n      <td>-0.671908</td>\n      <td>0.926884</td>\n      <td>0.575247</td>\n    </tr>\n    <tr>\n      <th>20</th>\n      <td>-0.893534</td>\n      <td>1.256516</td>\n      <td>0.764990</td>\n    </tr>\n    <tr>\n      <th>21</th>\n      <td>-0.618258</td>\n      <td>1.256516</td>\n      <td>0.529315</td>\n    </tr>\n    <tr>\n      <th>22</th>\n      <td>-1.483975</td>\n      <td>1.256516</td>\n      <td>1.270489</td>\n    </tr>\n    <tr>\n      <th>23</th>\n      <td>-0.745663</td>\n      <td>1.483848</td>\n      <td>0.638392</td>\n    </tr>\n  </tbody>\n</table>\n</div>"
     },
     "execution_count": 28,
     "metadata": {},
     "output_type": "execute_result"
    }
   ],
   "source": [
    "cpDf = normedDf.copy(deep=True)\n",
    "cpDf['ax+b'] = cpDf['km'].apply(lambda x: thetas[0] + x * thetas[1])\n",
    "cpDf"
   ],
   "metadata": {
    "collapsed": false,
    "ExecuteTime": {
     "end_time": "2024-05-23T08:07:01.523245Z",
     "start_time": "2024-05-23T08:07:01.516060Z"
    }
   },
   "id": "e880cc109e342f2d",
   "execution_count": 28
  },
  {
   "cell_type": "code",
   "outputs": [
    {
     "data": {
      "text/plain": "          km   price         ax+b\n0   240000.0  3650.0  3351.848388\n1   139800.0  3800.0  5501.034540\n2   150500.0  4400.0  5271.530629\n3   185530.0  4450.0  4520.173435\n4   176000.0  5250.0  4724.582058\n5   114800.0  5350.0  6037.258630\n6   166800.0  5800.0  4921.912523\n7    89000.0  5990.0  6590.641890\n8   144500.0  5999.0  5400.224411\n9    84000.0  6200.0  6697.886708\n10   82029.0  6390.0  6740.162615\n11   63060.0  6390.0  7147.028006\n12   74000.0  6600.0  6912.376344\n13   97500.0  6800.0  6408.325700\n14   67000.0  6800.0  7062.519089\n15   76025.0  6900.0  6868.942193\n16   48235.0  6900.0  7465.008891\n17   93000.0  6990.0  6504.846036\n18   60949.0  7490.0  7192.306768\n19   65674.0  7555.0  7090.960415\n20   54000.0  7990.0  7341.355616\n21   68500.0  7990.0  7030.345644\n22   22899.0  7990.0  8008.439833\n23   61789.0  8290.0  7174.289639",
      "text/html": "<div>\n<style scoped>\n    .dataframe tbody tr th:only-of-type {\n        vertical-align: middle;\n    }\n\n    .dataframe tbody tr th {\n        vertical-align: top;\n    }\n\n    .dataframe thead th {\n        text-align: right;\n    }\n</style>\n<table border=\"1\" class=\"dataframe\">\n  <thead>\n    <tr style=\"text-align: right;\">\n      <th></th>\n      <th>km</th>\n      <th>price</th>\n      <th>ax+b</th>\n    </tr>\n  </thead>\n  <tbody>\n    <tr>\n      <th>0</th>\n      <td>240000.0</td>\n      <td>3650.0</td>\n      <td>3351.848388</td>\n    </tr>\n    <tr>\n      <th>1</th>\n      <td>139800.0</td>\n      <td>3800.0</td>\n      <td>5501.034540</td>\n    </tr>\n    <tr>\n      <th>2</th>\n      <td>150500.0</td>\n      <td>4400.0</td>\n      <td>5271.530629</td>\n    </tr>\n    <tr>\n      <th>3</th>\n      <td>185530.0</td>\n      <td>4450.0</td>\n      <td>4520.173435</td>\n    </tr>\n    <tr>\n      <th>4</th>\n      <td>176000.0</td>\n      <td>5250.0</td>\n      <td>4724.582058</td>\n    </tr>\n    <tr>\n      <th>5</th>\n      <td>114800.0</td>\n      <td>5350.0</td>\n      <td>6037.258630</td>\n    </tr>\n    <tr>\n      <th>6</th>\n      <td>166800.0</td>\n      <td>5800.0</td>\n      <td>4921.912523</td>\n    </tr>\n    <tr>\n      <th>7</th>\n      <td>89000.0</td>\n      <td>5990.0</td>\n      <td>6590.641890</td>\n    </tr>\n    <tr>\n      <th>8</th>\n      <td>144500.0</td>\n      <td>5999.0</td>\n      <td>5400.224411</td>\n    </tr>\n    <tr>\n      <th>9</th>\n      <td>84000.0</td>\n      <td>6200.0</td>\n      <td>6697.886708</td>\n    </tr>\n    <tr>\n      <th>10</th>\n      <td>82029.0</td>\n      <td>6390.0</td>\n      <td>6740.162615</td>\n    </tr>\n    <tr>\n      <th>11</th>\n      <td>63060.0</td>\n      <td>6390.0</td>\n      <td>7147.028006</td>\n    </tr>\n    <tr>\n      <th>12</th>\n      <td>74000.0</td>\n      <td>6600.0</td>\n      <td>6912.376344</td>\n    </tr>\n    <tr>\n      <th>13</th>\n      <td>97500.0</td>\n      <td>6800.0</td>\n      <td>6408.325700</td>\n    </tr>\n    <tr>\n      <th>14</th>\n      <td>67000.0</td>\n      <td>6800.0</td>\n      <td>7062.519089</td>\n    </tr>\n    <tr>\n      <th>15</th>\n      <td>76025.0</td>\n      <td>6900.0</td>\n      <td>6868.942193</td>\n    </tr>\n    <tr>\n      <th>16</th>\n      <td>48235.0</td>\n      <td>6900.0</td>\n      <td>7465.008891</td>\n    </tr>\n    <tr>\n      <th>17</th>\n      <td>93000.0</td>\n      <td>6990.0</td>\n      <td>6504.846036</td>\n    </tr>\n    <tr>\n      <th>18</th>\n      <td>60949.0</td>\n      <td>7490.0</td>\n      <td>7192.306768</td>\n    </tr>\n    <tr>\n      <th>19</th>\n      <td>65674.0</td>\n      <td>7555.0</td>\n      <td>7090.960415</td>\n    </tr>\n    <tr>\n      <th>20</th>\n      <td>54000.0</td>\n      <td>7990.0</td>\n      <td>7341.355616</td>\n    </tr>\n    <tr>\n      <th>21</th>\n      <td>68500.0</td>\n      <td>7990.0</td>\n      <td>7030.345644</td>\n    </tr>\n    <tr>\n      <th>22</th>\n      <td>22899.0</td>\n      <td>7990.0</td>\n      <td>8008.439833</td>\n    </tr>\n    <tr>\n      <th>23</th>\n      <td>61789.0</td>\n      <td>8290.0</td>\n      <td>7174.289639</td>\n    </tr>\n  </tbody>\n</table>\n</div>"
     },
     "execution_count": 29,
     "metadata": {},
     "output_type": "execute_result"
    }
   ],
   "source": [
    "testDf = cpDf.copy(deep=True)\n",
    "testDf['price'] = testDf['price'].apply(lambda x: x * (df['price'].std()) + df['price'].mean())\n",
    "testDf['ax+b'] = testDf['ax+b'].apply(lambda x: x * (df['price'].std()) + df['price'].mean())\n",
    "testDf['km'] = testDf['km'].apply(lambda x: x * (df['km'].std()) + df['km'].mean())\n",
    "testDf"
   ],
   "metadata": {
    "collapsed": false,
    "ExecuteTime": {
     "end_time": "2024-05-23T08:07:46.401620Z",
     "start_time": "2024-05-23T08:07:46.382414Z"
    }
   },
   "id": "fe0dd9861393ae95",
   "execution_count": 29
  },
  {
   "cell_type": "code",
   "outputs": [
    {
     "name": "stdout",
     "output_type": "stream",
     "text": [
      "8499.599649933214 -0.02144896359170229\n",
      "[1.892005071132038e-16, -0.8561394207905018]\n"
     ]
    },
    {
     "data": {
      "text/plain": "          km   price         ax+b       unnorm\n0   240000.0  3650.0  3351.848388  3351.848388\n1   139800.0  3800.0  5501.034540  5501.034540\n2   150500.0  4400.0  5271.530629  5271.530629\n3   185530.0  4450.0  4520.173435  4520.173435\n4   176000.0  5250.0  4724.582058  4724.582058\n5   114800.0  5350.0  6037.258630  6037.258630\n6   166800.0  5800.0  4921.912523  4921.912523\n7    89000.0  5990.0  6590.641890  6590.641890\n8   144500.0  5999.0  5400.224411  5400.224411\n9    84000.0  6200.0  6697.886708  6697.886708\n10   82029.0  6390.0  6740.162615  6740.162615\n11   63060.0  6390.0  7147.028006  7147.028006\n12   74000.0  6600.0  6912.376344  6912.376344\n13   97500.0  6800.0  6408.325700  6408.325700\n14   67000.0  6800.0  7062.519089  7062.519089\n15   76025.0  6900.0  6868.942193  6868.942193\n16   48235.0  6900.0  7465.008891  7465.008891\n17   93000.0  6990.0  6504.846036  6504.846036\n18   60949.0  7490.0  7192.306768  7192.306768\n19   65674.0  7555.0  7090.960415  7090.960415\n20   54000.0  7990.0  7341.355616  7341.355616\n21   68500.0  7990.0  7030.345644  7030.345644\n22   22899.0  7990.0  8008.439833  8008.439833\n23   61789.0  8290.0  7174.289639  7174.289639",
      "text/html": "<div>\n<style scoped>\n    .dataframe tbody tr th:only-of-type {\n        vertical-align: middle;\n    }\n\n    .dataframe tbody tr th {\n        vertical-align: top;\n    }\n\n    .dataframe thead th {\n        text-align: right;\n    }\n</style>\n<table border=\"1\" class=\"dataframe\">\n  <thead>\n    <tr style=\"text-align: right;\">\n      <th></th>\n      <th>km</th>\n      <th>price</th>\n      <th>ax+b</th>\n      <th>unnorm</th>\n    </tr>\n  </thead>\n  <tbody>\n    <tr>\n      <th>0</th>\n      <td>240000.0</td>\n      <td>3650.0</td>\n      <td>3351.848388</td>\n      <td>3351.848388</td>\n    </tr>\n    <tr>\n      <th>1</th>\n      <td>139800.0</td>\n      <td>3800.0</td>\n      <td>5501.034540</td>\n      <td>5501.034540</td>\n    </tr>\n    <tr>\n      <th>2</th>\n      <td>150500.0</td>\n      <td>4400.0</td>\n      <td>5271.530629</td>\n      <td>5271.530629</td>\n    </tr>\n    <tr>\n      <th>3</th>\n      <td>185530.0</td>\n      <td>4450.0</td>\n      <td>4520.173435</td>\n      <td>4520.173435</td>\n    </tr>\n    <tr>\n      <th>4</th>\n      <td>176000.0</td>\n      <td>5250.0</td>\n      <td>4724.582058</td>\n      <td>4724.582058</td>\n    </tr>\n    <tr>\n      <th>5</th>\n      <td>114800.0</td>\n      <td>5350.0</td>\n      <td>6037.258630</td>\n      <td>6037.258630</td>\n    </tr>\n    <tr>\n      <th>6</th>\n      <td>166800.0</td>\n      <td>5800.0</td>\n      <td>4921.912523</td>\n      <td>4921.912523</td>\n    </tr>\n    <tr>\n      <th>7</th>\n      <td>89000.0</td>\n      <td>5990.0</td>\n      <td>6590.641890</td>\n      <td>6590.641890</td>\n    </tr>\n    <tr>\n      <th>8</th>\n      <td>144500.0</td>\n      <td>5999.0</td>\n      <td>5400.224411</td>\n      <td>5400.224411</td>\n    </tr>\n    <tr>\n      <th>9</th>\n      <td>84000.0</td>\n      <td>6200.0</td>\n      <td>6697.886708</td>\n      <td>6697.886708</td>\n    </tr>\n    <tr>\n      <th>10</th>\n      <td>82029.0</td>\n      <td>6390.0</td>\n      <td>6740.162615</td>\n      <td>6740.162615</td>\n    </tr>\n    <tr>\n      <th>11</th>\n      <td>63060.0</td>\n      <td>6390.0</td>\n      <td>7147.028006</td>\n      <td>7147.028006</td>\n    </tr>\n    <tr>\n      <th>12</th>\n      <td>74000.0</td>\n      <td>6600.0</td>\n      <td>6912.376344</td>\n      <td>6912.376344</td>\n    </tr>\n    <tr>\n      <th>13</th>\n      <td>97500.0</td>\n      <td>6800.0</td>\n      <td>6408.325700</td>\n      <td>6408.325700</td>\n    </tr>\n    <tr>\n      <th>14</th>\n      <td>67000.0</td>\n      <td>6800.0</td>\n      <td>7062.519089</td>\n      <td>7062.519089</td>\n    </tr>\n    <tr>\n      <th>15</th>\n      <td>76025.0</td>\n      <td>6900.0</td>\n      <td>6868.942193</td>\n      <td>6868.942193</td>\n    </tr>\n    <tr>\n      <th>16</th>\n      <td>48235.0</td>\n      <td>6900.0</td>\n      <td>7465.008891</td>\n      <td>7465.008891</td>\n    </tr>\n    <tr>\n      <th>17</th>\n      <td>93000.0</td>\n      <td>6990.0</td>\n      <td>6504.846036</td>\n      <td>6504.846036</td>\n    </tr>\n    <tr>\n      <th>18</th>\n      <td>60949.0</td>\n      <td>7490.0</td>\n      <td>7192.306768</td>\n      <td>7192.306768</td>\n    </tr>\n    <tr>\n      <th>19</th>\n      <td>65674.0</td>\n      <td>7555.0</td>\n      <td>7090.960415</td>\n      <td>7090.960415</td>\n    </tr>\n    <tr>\n      <th>20</th>\n      <td>54000.0</td>\n      <td>7990.0</td>\n      <td>7341.355616</td>\n      <td>7341.355616</td>\n    </tr>\n    <tr>\n      <th>21</th>\n      <td>68500.0</td>\n      <td>7990.0</td>\n      <td>7030.345644</td>\n      <td>7030.345644</td>\n    </tr>\n    <tr>\n      <th>22</th>\n      <td>22899.0</td>\n      <td>7990.0</td>\n      <td>8008.439833</td>\n      <td>8008.439833</td>\n    </tr>\n    <tr>\n      <th>23</th>\n      <td>61789.0</td>\n      <td>8290.0</td>\n      <td>7174.289639</td>\n      <td>7174.289639</td>\n    </tr>\n  </tbody>\n</table>\n</div>"
     },
     "execution_count": 34,
     "metadata": {},
     "output_type": "execute_result"
    }
   ],
   "source": [
    "t1 = thetas[1] * (df['price'].std() / df['km'].std())\n",
    "t0 = df['price'].mean() + df['price'].std() * (thetas[0] - (thetas[1] * (df['km'].mean() / df['km'].std())))\n",
    "testDf['unnorm'] = testDf['km'].apply(lambda x: t0 + x * t1)\n",
    "print(t0, t1)\n",
    "print(thetas)\n",
    "testDf"
   ],
   "metadata": {
    "collapsed": false,
    "ExecuteTime": {
     "end_time": "2024-05-23T08:27:48.563149Z",
     "start_time": "2024-05-23T08:27:48.553644Z"
    }
   },
   "id": "7b336dfed51c471f",
   "execution_count": 34
  },
  {
   "cell_type": "code",
   "outputs": [
    {
     "data": {
      "text/plain": "          km   price            un\n0   240000.0  3650.0 -2.711476e+08\n1   139800.0  3800.0 -1.579408e+08\n2   150500.0  4400.0 -1.700298e+08\n3   185530.0  4450.0 -2.096069e+08\n4   176000.0  5250.0 -1.988399e+08\n5   114800.0  5350.0 -1.296956e+08\n6   166800.0  5800.0 -1.884456e+08\n7    89000.0  5990.0 -1.005466e+08\n8   144500.0  5999.0 -1.632509e+08\n9    84000.0  6200.0 -9.489754e+07\n10   82029.0  6390.0 -9.267069e+07\n11   63060.0  6390.0 -7.123936e+07\n12   74000.0  6600.0 -8.359946e+07\n13   97500.0  6800.0 -1.101499e+08\n14   67000.0  6800.0 -7.569080e+07\n15   76025.0  6900.0 -8.588732e+07\n16   48235.0  6900.0 -5.448996e+07\n17   93000.0  6990.0 -1.050658e+08\n18   60949.0  7490.0 -6.885433e+07\n19   65674.0  7555.0 -7.419268e+07\n20   54000.0  7990.0 -6.100330e+07\n21   68500.0  7990.0 -7.738551e+07\n22   22899.0  7990.0 -2.586514e+07\n23   61789.0  8290.0 -6.980337e+07",
      "text/html": "<div>\n<style scoped>\n    .dataframe tbody tr th:only-of-type {\n        vertical-align: middle;\n    }\n\n    .dataframe tbody tr th {\n        vertical-align: top;\n    }\n\n    .dataframe thead th {\n        text-align: right;\n    }\n</style>\n<table border=\"1\" class=\"dataframe\">\n  <thead>\n    <tr style=\"text-align: right;\">\n      <th></th>\n      <th>km</th>\n      <th>price</th>\n      <th>un</th>\n    </tr>\n  </thead>\n  <tbody>\n    <tr>\n      <th>0</th>\n      <td>240000.0</td>\n      <td>3650.0</td>\n      <td>-2.711476e+08</td>\n    </tr>\n    <tr>\n      <th>1</th>\n      <td>139800.0</td>\n      <td>3800.0</td>\n      <td>-1.579408e+08</td>\n    </tr>\n    <tr>\n      <th>2</th>\n      <td>150500.0</td>\n      <td>4400.0</td>\n      <td>-1.700298e+08</td>\n    </tr>\n    <tr>\n      <th>3</th>\n      <td>185530.0</td>\n      <td>4450.0</td>\n      <td>-2.096069e+08</td>\n    </tr>\n    <tr>\n      <th>4</th>\n      <td>176000.0</td>\n      <td>5250.0</td>\n      <td>-1.988399e+08</td>\n    </tr>\n    <tr>\n      <th>5</th>\n      <td>114800.0</td>\n      <td>5350.0</td>\n      <td>-1.296956e+08</td>\n    </tr>\n    <tr>\n      <th>6</th>\n      <td>166800.0</td>\n      <td>5800.0</td>\n      <td>-1.884456e+08</td>\n    </tr>\n    <tr>\n      <th>7</th>\n      <td>89000.0</td>\n      <td>5990.0</td>\n      <td>-1.005466e+08</td>\n    </tr>\n    <tr>\n      <th>8</th>\n      <td>144500.0</td>\n      <td>5999.0</td>\n      <td>-1.632509e+08</td>\n    </tr>\n    <tr>\n      <th>9</th>\n      <td>84000.0</td>\n      <td>6200.0</td>\n      <td>-9.489754e+07</td>\n    </tr>\n    <tr>\n      <th>10</th>\n      <td>82029.0</td>\n      <td>6390.0</td>\n      <td>-9.267069e+07</td>\n    </tr>\n    <tr>\n      <th>11</th>\n      <td>63060.0</td>\n      <td>6390.0</td>\n      <td>-7.123936e+07</td>\n    </tr>\n    <tr>\n      <th>12</th>\n      <td>74000.0</td>\n      <td>6600.0</td>\n      <td>-8.359946e+07</td>\n    </tr>\n    <tr>\n      <th>13</th>\n      <td>97500.0</td>\n      <td>6800.0</td>\n      <td>-1.101499e+08</td>\n    </tr>\n    <tr>\n      <th>14</th>\n      <td>67000.0</td>\n      <td>6800.0</td>\n      <td>-7.569080e+07</td>\n    </tr>\n    <tr>\n      <th>15</th>\n      <td>76025.0</td>\n      <td>6900.0</td>\n      <td>-8.588732e+07</td>\n    </tr>\n    <tr>\n      <th>16</th>\n      <td>48235.0</td>\n      <td>6900.0</td>\n      <td>-5.448996e+07</td>\n    </tr>\n    <tr>\n      <th>17</th>\n      <td>93000.0</td>\n      <td>6990.0</td>\n      <td>-1.050658e+08</td>\n    </tr>\n    <tr>\n      <th>18</th>\n      <td>60949.0</td>\n      <td>7490.0</td>\n      <td>-6.885433e+07</td>\n    </tr>\n    <tr>\n      <th>19</th>\n      <td>65674.0</td>\n      <td>7555.0</td>\n      <td>-7.419268e+07</td>\n    </tr>\n    <tr>\n      <th>20</th>\n      <td>54000.0</td>\n      <td>7990.0</td>\n      <td>-6.100330e+07</td>\n    </tr>\n    <tr>\n      <th>21</th>\n      <td>68500.0</td>\n      <td>7990.0</td>\n      <td>-7.738551e+07</td>\n    </tr>\n    <tr>\n      <th>22</th>\n      <td>22899.0</td>\n      <td>7990.0</td>\n      <td>-2.586514e+07</td>\n    </tr>\n    <tr>\n      <th>23</th>\n      <td>61789.0</td>\n      <td>8290.0</td>\n      <td>-6.980337e+07</td>\n    </tr>\n  </tbody>\n</table>\n</div>"
     },
     "execution_count": 26,
     "metadata": {},
     "output_type": "execute_result"
    }
   ],
   "source": [
    "test2 = df.copy(deep=True)\n",
    "test2['un'] = test2['km'].apply(lambda x: t0 + x * t1)\n",
    "test2"
   ],
   "metadata": {
    "collapsed": false,
    "ExecuteTime": {
     "end_time": "2024-05-23T08:05:35.490369Z",
     "start_time": "2024-05-23T08:05:35.481017Z"
    }
   },
   "id": "b2323bf3d2ebf776",
   "execution_count": 26
  },
  {
   "cell_type": "code",
   "outputs": [
    {
     "name": "stdout",
     "output_type": "stream",
     "text": [
      "std 1319.6541927360352 mean 6331.833333333333\n",
      "std 52674.24560550151 mean 101066.25\n"
     ]
    }
   ],
   "source": [
    "print(f'std {df[\"price\"].std()} mean {df[\"price\"].mean()}')\n",
    "print(f'std {df[\"km\"].std()} mean {df[\"km\"].mean()}')\n"
   ],
   "metadata": {
    "collapsed": false,
    "ExecuteTime": {
     "end_time": "2024-05-23T07:40:01.834155Z",
     "start_time": "2024-05-23T07:40:01.831123Z"
    }
   },
   "id": "1560fd1942ea18ad",
   "execution_count": 21
  },
  {
   "cell_type": "code",
   "outputs": [
    {
     "name": "stdout",
     "output_type": "stream",
     "text": [
      "[2.2435756955966697e-16, -0.8561394207905022]\n",
      "8499.599649933216 -0.0214489635917023\n"
     ]
    }
   ],
   "source": [
    "t1 = thetas[1] * (df['price'].std() / df['km'].std())\n",
    "t0 = df['price'].mean() + df['price'].std() * (thetas[0] - (thetas[1] * (df['km'].mean() / df['km'].std())))\n",
    "print(thetas)\n",
    "print(t0, t1)"
   ],
   "metadata": {
    "collapsed": false,
    "ExecuteTime": {
     "end_time": "2024-05-23T07:40:01.843470Z",
     "start_time": "2024-05-23T07:40:01.835210Z"
    }
   },
   "id": "a04d947141c57d9a",
   "execution_count": 22
  }
 ],
 "metadata": {
  "kernelspec": {
   "display_name": "Python 3 (ipykernel)",
   "language": "python",
   "name": "python3"
  },
  "language_info": {
   "codemirror_mode": {
    "name": "ipython",
    "version": 3
   },
   "file_extension": ".py",
   "mimetype": "text/x-python",
   "name": "python",
   "nbconvert_exporter": "python",
   "pygments_lexer": "ipython3",
   "version": "3.10.12"
  }
 },
 "nbformat": 4,
 "nbformat_minor": 5
}
